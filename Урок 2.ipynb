{
 "cells": [
  {
   "cell_type": "code",
   "execution_count": 2,
   "metadata": {
    "collapsed": true
   },
   "outputs": [],
   "source": [
    "from math import factorial, exp\n",
    "\n",
    "def combinations(k, n):\n",
    "    return int(factorial(n) / (factorial(k) * factorial(n - k)));\n",
    "\n",
    "def bernulli(n, k, p):\n",
    "    # n - длина дискретного отрезка [0, n]\n",
    "    # k - значение из отрезка\n",
    "    # p - вероятность наступления события в n независимых испытаниях\n",
    "    return combinations(k, n) * p ** k * (1 - p) ** (n - k)\n",
    "\n",
    "\n",
    "def puasson(l, m):\n",
    "    return l ** m * exp(-l) / factorial(m)\n"
   ]
  },
  {
   "cell_type": "code",
   "execution_count": 3,
   "metadata": {},
   "outputs": [
    {
     "name": "stdout",
     "output_type": "stream",
     "text": [
      "0.048061793700746355\n"
     ]
    }
   ],
   "source": [
    "# 1. Вероятность того, что стрелок попадет в мишень, выстрелив один раз, равна 0.8. \n",
    "# Стрелок выстрелил 100 раз. Найдите вероятность того, что стрелок попадет в цель ровно 85 раз.\n",
    "\n",
    "# Решение: вероятность наступления события большая, число испытаний не большое - применяем биномиальное распределение\n",
    "\n",
    "n = 100\n",
    "p = 0.8\n",
    "k = 85\n",
    "print(bernulli(n, k, p))"
   ]
  },
  {
   "cell_type": "code",
   "execution_count": 4,
   "metadata": {},
   "outputs": [
    {
     "name": "stdout",
     "output_type": "stream",
     "text": [
      "0.1353352832366127\n",
      "0.2706705664732254\n"
     ]
    }
   ],
   "source": [
    "# 2. Вероятность того, что лампочка перегорит в течение первого дня эксплуатации, равна 0.0004. \n",
    "# В жилом комплексе после ремонта в один день включили 5000 новых лампочек. Какова вероятность, \n",
    "# что ни одна из них не перегорит в первый день? Какова вероятность, что перегорят ровно две?\n",
    "   \n",
    "# Решение: событие A - лампочка перегорит в первый день; очень низкая вероятность наступления события А;\n",
    "#          используем распределение Пуассона\n",
    "# λ = p*n = 0.0004 * 5000 = 2, в среднем перегорят две новые лампочки в первый день\n",
    "# m - число испытанией (число перегоревших ламп)\n",
    "\n",
    "l = 0.0004 * 5000\n",
    "\n",
    "m = 0\n",
    "print(puasson(l, m))\n",
    "\n",
    "m = 2\n",
    "print(puasson(l, m))"
   ]
  },
  {
   "cell_type": "code",
   "execution_count": 5,
   "metadata": {},
   "outputs": [
    {
     "name": "stdout",
     "output_type": "stream",
     "text": [
      "0.06281178035144776\n"
     ]
    }
   ],
   "source": [
    "# 3. Монету подбросили 144 раза. Какова вероятность, что орел выпадет ровно 70 раз?\n",
    "\n",
    "# Решение: вероятность события большая - 0.5; небольшое число испытаний; применяем биномиальное распределение\n",
    "\n",
    "n = 144\n",
    "p = 0.5\n",
    "k = 70\n",
    "print(bernulli(n, k, p))"
   ]
  },
  {
   "cell_type": "code",
   "execution_count": 10,
   "metadata": {},
   "outputs": [
    {
     "name": "stdout",
     "output_type": "stream",
     "text": [
      "Все мячи белые: 0.30545454545454537\n",
      "Хотя бы один белый мяч: 0.9987878787878788\n",
      "Ровно два мяча белые: 0.20484848484848486, p1=0.008484848484848486, p2=0.15272727272727274, p3=0.04363636363636363\n"
     ]
    }
   ],
   "source": [
    "# 4. В первом ящике находится 10 мячей, из которых 7 - белые. Во втором ящике - 11 мячей, \n",
    "# из которых 9 белых. Из каждого ящика вытаскивают случайным образом по два мяча. \n",
    "\n",
    "# Какова вероятность того, что все мячи белые? \n",
    "\n",
    "# Решение: вероятность вытащить 2 белых мяча из первого ящика = 7/10 * 6/9 или \n",
    "#          сочетание 2 из 7 разделить на сочетание 2 из 10;\n",
    "#          для второго ящика: 9/11*8/10\n",
    "\n",
    "p_box1_ball2 = 7/10 * 6/9\n",
    "# print(p_box1_ball2)\n",
    "# print(combinations(2,7)/combinations(2,10))\n",
    "\n",
    "p_box2_ball2 = 9/11 * 8/10\n",
    "# print(p_box2_ball2)\n",
    "# print(combinations(2,9)/combinations(2,11))\n",
    "\n",
    "res = p_box1_ball2 * p_box2_ball2\n",
    "print(f'Все мячи белые: {res}')\n",
    "\n",
    "# Какова вероятность того, что хотя бы один мяч белый?\n",
    "\n",
    "# Решение: рассчитаем вероятность того, что все выбранные мячи черные. Искомая вероятность будет противоположной.\n",
    "\n",
    "p_box1_ball2_black = combinations(2,3) / combinations(2,10)\n",
    "p_box2_ball2_black = combinations(2,2) / combinations(2,11)\n",
    "print(f'Хотя бы один белый мяч: {1 - p_box1_ball2_black * p_box2_ball2_black}')\n",
    "\n",
    "# Какова вероятность того, что ровно два мяча белые?\n",
    "\n",
    "# Решение: сумма вероятностей - два белых из ящика 1 и два черных из ящика 2 (p1)\n",
    "#                               по одному белому и одному черному из каждого ящика (p2)\n",
    "#                               два черных из ящика 1 и два белых из ящика 2 (p3)\n",
    "\n",
    "p1 = combinations(2,7) / combinations(2,10) * combinations(2,2) / combinations(2,11)\n",
    "p2 = (combinations(1,7) * combinations(1,3) / combinations(2,10)) * \\\n",
    "     (combinations(1,9) * combinations(1,2) / combinations(2,11))\n",
    "p3 = combinations(2,3) / combinations(2,10) * combinations(2,9) / combinations(2,11)\n",
    "\n",
    "print(f'Ровно два мяча белые: {p1 + p2 + p3}, p1={p1}, p2={p2}, p3={p3}')"
   ]
  }
 ],
 "metadata": {
  "kernelspec": {
   "display_name": "Python 3",
   "language": "python",
   "name": "python3"
  },
  "language_info": {
   "codemirror_mode": {
    "name": "ipython",
    "version": 3
   },
   "file_extension": ".py",
   "mimetype": "text/x-python",
   "name": "python",
   "nbconvert_exporter": "python",
   "pygments_lexer": "ipython3",
   "version": "3.6.3"
  }
 },
 "nbformat": 4,
 "nbformat_minor": 2
}
