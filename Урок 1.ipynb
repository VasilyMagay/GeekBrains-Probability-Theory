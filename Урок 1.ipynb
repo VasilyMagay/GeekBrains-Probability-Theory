{
 "cells": [
  {
   "cell_type": "code",
   "execution_count": 5,
   "metadata": {
    "collapsed": true
   },
   "outputs": [],
   "source": [
    "from math import factorial\n",
    "\n",
    "def combinations(k, n):\n",
    "    return int(factorial(n) / (factorial(k) * factorial(n - k)));"
   ]
  },
  {
   "cell_type": "code",
   "execution_count": 23,
   "metadata": {},
   "outputs": [
    {
     "name": "stdout",
     "output_type": "stream",
     "text": [
      "P(1a)=0.0026410564225690276\n",
      "\n",
      "Есть один туз: 83300 способов\n",
      "Есть два туза: 7350 способов\n",
      "Есть три туза: 196 способов\n",
      "Есть четыре туза: 1 способов\n",
      "\n",
      "P(1b)=0.3355693046449349\n"
     ]
    }
   ],
   "source": [
    "# 1. Из колоды в 52 карты извлекаются случайным образом 4 карты. \n",
    "\n",
    "num_cards = 52;  # общее кол-во карт\n",
    "num_in_suit = int(num_cards / 4);  # кол-во карт в одной масти\n",
    "\n",
    "# a) Найти вероятность того, что все карты – крести. \n",
    "# Решение: это отношение сочетания 4 трефы из 13 треф к сочетанию 4 любые карты из 52 карт. \n",
    "\n",
    "p1a = combinations(4, num_in_suit) / combinations(4, num_cards);\n",
    "print(f'P(1a)={p1a}')\n",
    "\n",
    "# б) Найти вероятность, что среди 4-х карт окажется ХОТЯ БЫ один туз.\n",
    "# Решение: отношение суммы всех нужных сочетаний (один туз в наборе, два туза в наборе, три туза в наборе,\n",
    "#          четыре туза в наборе) к сочетанию любых 4-х карт из 52\n",
    "\n",
    "comb_1_ace = combinations(1, 4) * combinations(3, (num_cards - 1))  # один туз и 3 любые карты\n",
    "comb_2_ace = combinations(2, 4) * combinations(2, (num_cards - 2))  # два туза и 2 любые карты\n",
    "comb_3_ace = combinations(3, 4) * combinations(1, (num_cards - 3))  # три туза и 1 любая карта\n",
    "comb_4_ace = combinations(4, 4) * combinations(0, (num_cards - 4))  # четыре туза\n",
    "print(f'\\nЕсть один туз: {comb_1_ace} способов')\n",
    "print(f'Есть два туза: {comb_2_ace} способов')\n",
    "print(f'Есть три туза: {comb_3_ace} способов')\n",
    "print(f'Есть четыре туза: {comb_4_ace} способов')\n",
    "\n",
    "p1b = (comb_1_ace + comb_2_ace + comb_3_ace + comb_4_ace) / combinations(4, num_cards);\n",
    "print(f'\\nP(1b)={p1b}')"
   ]
  },
  {
   "cell_type": "code",
   "execution_count": 24,
   "metadata": {},
   "outputs": [
    {
     "name": "stdout",
     "output_type": "stream",
     "text": [
      "P(2) = 0.008333333333333333\n"
     ]
    }
   ],
   "source": [
    "# 2. На входной двери подъезда установлен кодовый замок, содержащий десять кнопок с цифрами от 0 до 9. \n",
    "# Код содержит три цифры, которые нужно нажать одновременно. Какова вероятность того, что человек, не знающий код, \n",
    "# откроет дверь с первой попытки?\n",
    "\n",
    "# Решение: порядок кнопок не важен, всего 10 кнопок. Считаем сочетания 3 из 10. Угаданное сочетание = 1.\n",
    "\n",
    "num_button = 10  # кол-во кнопок\n",
    "print(f'P(2) = {1 / combinations(3, num_button)}')"
   ]
  },
  {
   "cell_type": "code",
   "execution_count": 25,
   "metadata": {},
   "outputs": [
    {
     "name": "stdout",
     "output_type": "stream",
     "text": [
      "P(3) = 0.041501976284584984\n"
     ]
    }
   ],
   "source": [
    "# 3. В ящике имеется 15 деталей, из которых 9 окрашены. Рабочий случайным образом извлекает 3 детали. \n",
    "# Какова вероятность того, что все извлеченные детали окрашены?\n",
    "\n",
    "# Решение:  Кол-во правильных вариантов = сочетания 3 из 9, общее кол-во сочетаний = 3 из 24\n",
    "\n",
    "print(f'P(3) = {combinations(3, 9) / combinations(3, 24)}')"
   ]
  },
  {
   "cell_type": "code",
   "execution_count": 26,
   "metadata": {},
   "outputs": [
    {
     "name": "stdout",
     "output_type": "stream",
     "text": [
      "P(4) = 0.00020202020202020202\n"
     ]
    }
   ],
   "source": [
    "# 4. В лотерее 100 билетов. Из них 2 выигрышных. Какова вероятность того, что 2 приобретенных билета окажутся выигрышными?\n",
    "\n",
    "# Решение:  Кол-во правильных вариантов = сочетания 2 из 2, общее кол-во сочетаний = 2 из 100\n",
    "\n",
    "print(f'P(4) = {combinations(2, 2) / combinations(2, 100)}')\n"
   ]
  }
 ],
 "metadata": {
  "kernelspec": {
   "display_name": "Python 3",
   "language": "python",
   "name": "python3"
  },
  "language_info": {
   "codemirror_mode": {
    "name": "ipython",
    "version": 3
   },
   "file_extension": ".py",
   "mimetype": "text/x-python",
   "name": "python",
   "nbconvert_exporter": "python",
   "pygments_lexer": "ipython3",
   "version": "3.6.3"
  }
 },
 "nbformat": 4,
 "nbformat_minor": 2
}
